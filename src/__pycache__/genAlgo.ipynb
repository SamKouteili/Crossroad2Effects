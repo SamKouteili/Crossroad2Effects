{
 "cells": [
  {
   "cell_type": "code",
   "execution_count": 2,
   "metadata": {},
   "outputs": [],
   "source": [
    "import numpy as np\n",
    "from pedalboard import Pedalboard, Plugin, Chorus, Mix, Chain, Gain\n",
    "from plgUtil import *\n",
    "from paramOptim import optimize_plg_params\n",
    "from faustify import faustify\n",
    "import typing\n",
    "from random import choice, randint, random, shuffle\n",
    "from genAlgo import *\n",
    "import time as ti"
   ]
  },
  {
   "cell_type": "code",
   "execution_count": 3,
   "metadata": {},
   "outputs": [],
   "source": [
    "a = Pedalboard([Gain()])"
   ]
  },
  {
   "cell_type": "code",
   "execution_count": 4,
   "metadata": {},
   "outputs": [
    {
     "name": "stdout",
     "output_type": "stream",
     "text": [
      "Board after mutation: \n",
      "<Pedalboard with 2 plugins: [<pedalboard.Chain with 1 plugin: [<pedalboard.Chorus rate_hz=1 depth=0.25 centre_delay_ms=7 feedback=0 mix=0.5 at 0x55c702b1e9b0>] at 0x55c702a265c0>, <pedalboard.Gain gain_db=1 at 0x55c702a3a720>]>\n",
      "Board after mutation: \n",
      "<Pedalboard with 2 plugins: [<pedalboard.Chain with 1 plugin: [<pedalboard.Chorus rate_hz=1 depth=0.25 centre_delay_ms=7 feedback=0 mix=0.5 at 0x55c702b1e9b0>] at 0x55c702a265c0>, <pedalboard.Mix with 2 plugins: [<pedalboard.Chain with 1 plugin: [<pedalboard.Gain gain_db=1 at 0x55c702a3a720>] at 0x55c7029c08b0>, <pedalboard.Chain with 1 plugin: [<pedalboard.Gain gain_db=1 at 0x55c702ab4e80>] at 0x55c7029d65f0>] at 0x55c7029ad460>]>\n",
      "Board after mutation: \n",
      "<Pedalboard with 2 plugins: [<pedalboard.Mix with 2 plugins: [<pedalboard.Chain with 1 plugin: [<pedalboard.Chorus rate_hz=1 depth=0.25 centre_delay_ms=7 feedback=0 mix=0.5 at 0x55c702b1e9b0>] at 0x55c702a265c0>, <pedalboard.Chain with 1 plugin: [<pedalboard.Chorus rate_hz=1 depth=0.25 centre_delay_ms=7 feedback=0 mix=0.5 at 0x55c702b20280>] at 0x55c70293ebf0>] at 0x55c7029a6280>, <pedalboard.Mix with 2 plugins: [<pedalboard.Chain with 1 plugin: [<pedalboard.Gain gain_db=1 at 0x55c702a3a720>] at 0x55c7029c08b0>, <pedalboard.Chain with 1 plugin: [<pedalboard.Gain gain_db=1 at 0x55c702ab4e80>] at 0x55c7029d65f0>] at 0x55c7029ad460>]>\n",
      "Board after mutation: \n",
      "<pedalboard.Chain with 1 plugin: [<pedalboard.Mix with 2 plugins: [<pedalboard.Chain with 1 plugin: [<pedalboard.Gain gain_db=1 at 0x55c702ab4e80>] at 0x55c702989340>, <pedalboard.Chain with 1 plugin: [<pedalboard.Reverb room_size=0.5 damping=0.5 wet_level=0.33 dry_level=0.4 width=1 freeze_mode=0 at 0x55c702b1e670>] at 0x55c702929450>] at 0x55c702988f00>] at 0x55c7029d65f0>\n",
      "Board after mutation: \n",
      "<pedalboard.Chain with 2 plugins: [<pedalboard.Chain with 1 plugin: [<pedalboard.Chorus rate_hz=1 depth=0.25 centre_delay_ms=7 feedback=0 mix=0.5 at 0x55c702b3a9f0>] at 0x55c702951970>, <pedalboard.Gain gain_db=1 at 0x55c702ab4e80>] at 0x55c702989340>\n",
      "Board after mutation: \n",
      "<pedalboard.Chain with 2 plugins: [<pedalboard.Chain with 1 plugin: [<pedalboard.Gain gain_db=1 at 0x55c702a58120>] at 0x55c702979f90>, <pedalboard.Chorus rate_hz=1 depth=0.25 centre_delay_ms=7 feedback=0 mix=0.5 at 0x55c702b1e9b0>] at 0x55c702a265c0>\n",
      "(((GAIN) : CHORUS)), ((CHORUS)) :> ((GAIN)), (((((CHORUS) : GAIN)), ((REVERB)):> _)):> _\n"
     ]
    }
   ],
   "source": [
    "a = Pedalboard([Gain()])\n",
    "for _ in range(6) :\n",
    "    mutate(a)\n",
    "\n",
    "print(faustify(a))\n",
    "\n"
   ]
  },
  {
   "cell_type": "code",
   "execution_count": 5,
   "metadata": {},
   "outputs": [],
   "source": [
    "def evolve(dry, wet, sr) :\n",
    "\n",
    "    tol=1.0e-5\n",
    "\n",
    "    N_pop = 12\n",
    "    N_gens = 20\n",
    "    N_survive = 10\n",
    "\n",
    "    # models all held here\n",
    "    models = [Pedalboard([])]\n",
    "\n",
    "    # create initial population\n",
    "    for plg in PLUGINS : \n",
    "        models += Pedalboard([copyPlg(plg)])\n",
    "\n",
    "    models = generation(models, N_pop, N_survive)\n",
    "\n",
    "    gen_num = 0\n",
    "    converge = False\n",
    "    elapsed = ti.time()\n",
    "\n",
    "\n",
    "    while gen_num < N_gens :\n",
    "\n",
    "        errors = [calc_error(model(dry, sr), wet) for model in models]\n",
    "        aridxs = np.argsort(errors)[:N_pop]\n",
    "        errors = [errors[i] for i in aridxs]\n",
    "        models = [models[i] for i in aridxs]\n",
    "\n",
    "        if errors[0] <= tol :\n",
    "            converge = True\n",
    "            break\n",
    "            \n",
    "        if N_pop < 48:\n",
    "            N_pop += 4\n",
    "\n",
    "        models = generation(models, N_pop, N_survive)\n",
    "    \n",
    "    conv = \"converged\" if converge else \"did not converge\"\n",
    "    print(f\"The model {conv}!\")\n",
    "    print(f\"Best Model: {models[0]} \\nError: {models[0]}\")\n",
    "\n",
    "    return models[0]"
   ]
  },
  {
   "cell_type": "code",
   "execution_count": 36,
   "metadata": {},
   "outputs": [
    {
     "name": "stdout",
     "output_type": "stream",
     "text": [
      "PEDALBOARD ADD: <Pedalboard with 1 plugin: [<pedalboard.Reverb room_size=0.5 damping=0.5 wet_level=0.33 dry_level=0.4 width=1 freeze_mode=0 at 0x55c702d3cff0>]>\n",
      "PEDALBOARD ADD: <Pedalboard with 1 plugin: [<pedalboard.Chorus rate_hz=1 depth=0.25 centre_delay_ms=7 feedback=0 mix=0.5 at 0x55c702b592d0>]>\n",
      "PEDALBOARD ADD: <Pedalboard with 1 plugin: [<pedalboard.Gain gain_db=1 at 0x55c702cf7eb0>]>\n",
      "4\n",
      "Parent1: <Pedalboard with 0 plugins: []>   ||  Parent2: <Pedalboard with 1 plugin: [<pedalboard.Reverb room_size=0.5 damping=0.5 wet_level=0.33 dry_level=0.4 width=1 freeze_mode=0 at 0x55c702d3cff0>]>\n",
      "Parents: [<Pedalboard with 0 plugins: []>, <Pedalboard with 1 plugin: [<pedalboard.Reverb room_size=0.5 damping=0.5 wet_level=0.33 dry_level=0.4 width=1 freeze_mode=0 at 0x55c702d3cff0>]>]\n",
      "Concatenating parents in srs/prl\n",
      "5\n"
     ]
    }
   ],
   "source": [
    "models = [Pedalboard([])]\n",
    "\n",
    "# create initial population\n",
    "for plg in PLUGINS : \n",
    "    print(f\"PEDALBOARD ADD: {Pedalboard([copyPlg(plg)])}\")\n",
    "    models += [Pedalboard([copyPlg(plg)])]\n",
    "print(len(models)) \n",
    "N_survive = 12\n",
    "parent1 = rd.choice(models[:N_survive])\n",
    "parent2 = rd.choice(models[:N_survive])\n",
    "models += child(parent1, parent2)\n",
    "print(len(models))"
   ]
  },
  {
   "cell_type": "code",
   "execution_count": 20,
   "metadata": {},
   "outputs": [
    {
     "data": {
      "text/plain": [
       "[<pedalboard.Gain gain_db=1 at 0x5649a0cca0d0>,\n",
       " <pedalboard.Reverb room_size=0.5 damping=0.5 wet_level=0.33 dry_level=0.4 width=1 freeze_mode=0 at 0x5649a0beb580>]"
      ]
     },
     "execution_count": 20,
     "metadata": {},
     "output_type": "execute_result"
    }
   ],
   "source": [
    "N_survive = 12\n",
    "parent1 = rd.choice(models[:N_survive])\n",
    "parent2 = rd.choice(models[:N_survive])\n",
    "parents = [parent1, parent2]\n",
    "rd.shuffle(parents)\n",
    "parents"
   ]
  },
  {
   "cell_type": "code",
   "execution_count": null,
   "metadata": {},
   "outputs": [],
   "source": []
  },
  {
   "cell_type": "code",
   "execution_count": 4,
   "metadata": {},
   "outputs": [],
   "source": [
    "def generation(models, N, N_survive) :\n",
    "    \"\"\"\n",
    "    oc: @jatinchowdhury18    \n",
    "    create a generation of models from first two in existing list\n",
    "    \"\"\"\n",
    "    while len(models) < N:\n",
    "        parent1 = choice(models[:N_survive])\n",
    "        parent2 = choice(models[:N_survive])\n",
    "        models.append(child(parent1, parent2))\n",
    "\n",
    "        # check for duplicates\n",
    "        for m in models[:-1]:\n",
    "            if m == models[-1]:\n",
    "                # print('Duplicate detected! Mutating again...')\n",
    "                models.pop()\n",
    "                break\n",
    "\n",
    "    return models"
   ]
  },
  {
   "cell_type": "code",
   "execution_count": null,
   "metadata": {},
   "outputs": [],
   "source": [
    "def addSeries(board1, board2) :\n",
    "    return Pedalboard(list(board1) + list(board2))\n",
    "\n",
    "def addParallel(board1, board2) :\n",
    "    return Pedalboard([Mix([Pedalboard(list(board1)), Pedalboard(list(board2))])])\n",
    "\n",
    "def child(parent1, parent2) :\n",
    "    is_mutation = (random() <= P_MUTATION)\n",
    "    parents = shuffle([parent1, parent2])\n",
    "    if is_mutation : \n",
    "        return add_mutation(parents[0])\n",
    "    else : \n",
    "        return choice([addSeries, addParallel])(parents[0], parents[1])\n",
    "        "
   ]
  },
  {
   "cell_type": "code",
   "execution_count": 5,
   "metadata": {},
   "outputs": [
    {
     "data": {
      "text/plain": [
       "0.5870069667555846"
      ]
     },
     "execution_count": 5,
     "metadata": {},
     "output_type": "execute_result"
    }
   ],
   "source": []
  },
  {
   "cell_type": "code",
   "execution_count": null,
   "metadata": {},
   "outputs": [],
   "source": [
    "def board_fitness(board, plg, input_buf, target_buf, samplerate, tol=1.0e-5) :\n",
    "    return"
   ]
  },
  {
   "cell_type": "code",
   "execution_count": 84,
   "metadata": {},
   "outputs": [
    {
     "data": {
      "text/plain": [
       "<Pedalboard with 2 plugins: [<pedalboard.Chain with 0 plugins: [] at 0x56210c118b80>, <pedalboard.Chain with 0 plugins: [] at 0x56210be0c9b0>]>"
      ]
     },
     "execution_count": 84,
     "metadata": {},
     "output_type": "execute_result"
    }
   ],
   "source": [
    "board = Pedalboard([Pedalboard([])])\n",
    "plg = list(board[0])\n",
    "board.append(Chain(plg))\n",
    "board\n"
   ]
  },
  {
   "cell_type": "markdown",
   "metadata": {},
   "source": [
    "### Points to consider\n",
    "- can insert"
   ]
  },
  {
   "cell_type": "code",
   "execution_count": 47,
   "metadata": {},
   "outputs": [
    {
     "name": "stdout",
     "output_type": "stream",
     "text": [
      "Help on method_descriptor:\n",
      "\n",
      "insert(self, index, object, /)\n",
      "    Insert object before index.\n",
      "\n"
     ]
    }
   ],
   "source": [
    "b = dir(list)\n",
    "b.reverse()\n",
    "b\n",
    "help(list.insert)"
   ]
  },
  {
   "cell_type": "code",
   "execution_count": 45,
   "metadata": {},
   "outputs": [
    {
     "data": {
      "text/plain": [
       "[1, 2, 3]"
      ]
     },
     "execution_count": 45,
     "metadata": {},
     "output_type": "execute_result"
    }
   ],
   "source": [
    "a = [1]\n",
    "list.extend(a, [2,3])\n",
    "a"
   ]
  },
  {
   "cell_type": "code",
   "execution_count": null,
   "metadata": {},
   "outputs": [],
   "source": [
    "from pedalboard import Pedalboard, Plugin, Chain, Mix, Gain, Chorus, Reverb\n",
    "import time as ti\n",
    "import numpy as np\n",
    "import random as rd\n",
    "from plgUtil import *\n",
    "from paramOptim import *\n",
    "\n",
    "P_MUTATION = 0.6\n",
    "\n",
    "\n",
    "def evolve(dry, wet, sr) :\n",
    "\n",
    "    tol=1.0e-5\n",
    "\n",
    "    N_pop = 12\n",
    "    N_gens = 20\n",
    "    N_survive = 10\n",
    "\n",
    "    # initialize models\n",
    "    models = [Pedalboard([Chain([newPlg(plg)])]) for plg in PLUGINS]\n",
    "    \n",
    "    # do I want this here?\n",
    "    models = generation(models, N_pop, N_survive)\n",
    "\n",
    "    gen_num = 0\n",
    "    converge = False\n",
    "    elapsed = ti.time()\n",
    "\n",
    "\n",
    "    while gen_num < N_gens :\n",
    "\n",
    "        models = [m for m in models if m != None]\n",
    "        errors = [calc_error(m(dry, sr), wet) for m in models]\n",
    "        aridxs = np.argsort(errors)[:N_pop]\n",
    "        errors = [errors[i] for i in aridxs]\n",
    "        models = [models[i] for i in aridxs]\n",
    "\n",
    "        if errors[0] <= tol :\n",
    "            converge = True\n",
    "            break\n",
    "            \n",
    "        if N_pop < 48:\n",
    "            N_pop += 4\n",
    "\n",
    "        models = generation(models, N_pop, N_survive)\n",
    "    \n",
    "    conv = \"converged\" if converge else \"did not converge\"\n",
    "    print(f\"The model {conv}!\")\n",
    "    print(f\"Best Model: {models[0]} \\nError: {models[0]}\")\n",
    "\n",
    "    return models[0]\n",
    "\n",
    "\n",
    "\n",
    "\n",
    "def generation(models, N, N_survive):\n",
    "    \"\"\" \n",
    "    create a generation of models from first two in existing list\n",
    "    \"\"\"\n",
    "    while len(models) < N:\n",
    "\n",
    "        for model in models :\n",
    "            if model == None : models.remove(model)\n",
    "\n",
    "        parents = [newBoard(rd.choice(models[:N_survive])) for _ in range(2)]\n",
    "        # print(f\"PARENT IN MODEL: {parents[0] in models or parents[1] in models}\")\n",
    "        # print(f\"MODELS (type={type(models)}): {models}\\n\")\n",
    "        # print(f\"    PARENTS: {parents}\\n\")\n",
    "        # print(f\"    CHILD (type={type(child(parents))}): {child(parents)}\\n\")\n",
    "        models += [child(parents)]\n",
    "\n",
    "        # check for duplicates\n",
    "        for model in models[:-1]:\n",
    "            if model == models[:-1] :\n",
    "                # print('Duplicate detected! Mutating again...')\n",
    "                models.pop()\n",
    "                break\n",
    "\n",
    "    return models\n",
    "\n",
    "\n",
    "def child(parents) :\n",
    "    if rd.random() <= P_MUTATION : \n",
    "        return mutate(parents[0])\n",
    "\n",
    "    else : \n",
    "        print(f\"CONCAT PARENTS in srs/prl\")\n",
    "        return rd.choice([addSeries, addParallel])(parents[0], parents[1])\n",
    "\n",
    "\n",
    "def mutate(board : Pedalboard) :\n",
    "    \"\"\"\n",
    "    Add a plugin at a rd.random point in a Pedalboard\n",
    "    \"\"\"\n",
    "    def chain_opt(elem) :\n",
    "        return elem if isinstance(elem, Chain) else Chain([elem])\n",
    "\n",
    "    # plugin in chain to mix\n",
    "    def addAsMix(board, id, plg) :\n",
    "        board[id] = Mix([chain_opt(board[id]), chain_opt(plg)])\n",
    "\n",
    "    if board == Pedalboard([]) :\n",
    "        return Pedalboard([rd.choice(PLUGINS)])\n",
    "    \n",
    "    r_id = rd.randint(0, len(board)-1) if len(board) > 1 else 0\n",
    "    print(f\"Mutation: r_id={r_id}\\n     Board = {board}\")\n",
    "    curr = board[r_id]\n",
    "\n",
    "    if isinstance(curr, Mix) : \n",
    "        mutate(rd.choice(curr))\n",
    "    else : \n",
    "        r_plg = newPlg(rd.choice(PLUGINS))\n",
    "        rd.choice([Pedalboard.insert, addAsMix])(board, r_id, Chain([r_plg]))\n",
    "        print(f\"Board after mutation: \\n{board}\")\n",
    "        return Pedalboard(list(board))\n",
    "\n",
    "\n"
   ]
  }
 ],
 "metadata": {
  "kernelspec": {
   "display_name": "Python 3.9.12 ('base')",
   "language": "python",
   "name": "python3"
  },
  "language_info": {
   "codemirror_mode": {
    "name": "ipython",
    "version": 3
   },
   "file_extension": ".py",
   "mimetype": "text/x-python",
   "name": "python",
   "nbconvert_exporter": "python",
   "pygments_lexer": "ipython3",
   "version": "3.9.12"
  },
  "orig_nbformat": 4,
  "vscode": {
   "interpreter": {
    "hash": "1b15b47e994a45b2c1c9c2019b348cb81bbb68780db9285c808c045d049d064a"
   }
  }
 },
 "nbformat": 4,
 "nbformat_minor": 2
}
