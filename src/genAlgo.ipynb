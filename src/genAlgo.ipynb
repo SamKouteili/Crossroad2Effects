{
 "cells": [
  {
   "cell_type": "code",
   "execution_count": 1,
   "metadata": {},
   "outputs": [],
   "source": [
    "import numpy as np\n",
    "from pedalboard import Pedalboard, Chorus, Reverb, Mix, Chain, Gain, Plugin\n",
    "from pedalboard.io import AudioFile\n",
    "from plgUtil import *\n",
    "from paramOptim import optimize_plg_params\n",
    "from faustify import faustify\n",
    "import typing\n",
    "from random import choice, randint\n",
    "from genAlgo import *"
   ]
  },
  {
   "cell_type": "code",
   "execution_count": 2,
   "metadata": {},
   "outputs": [],
   "source": [
    "a = Pedalboard([Gain()])"
   ]
  },
  {
   "cell_type": "code",
   "execution_count": 2,
   "metadata": {},
   "outputs": [
    {
     "name": "stdout",
     "output_type": "stream",
     "text": [
      "ACC: ((GAIN)), ((REVERB)):> _, \n",
      "     ACC[-2]: _\n",
      "ACC: ((GAIN)), ((((GAIN)), ((REVERB)):> _)):> _, \n",
      "     ACC[-2]: _\n",
      "(CHORUS) : (CHORUS) : (CHORUS) : (CHORUS) <: ((GAIN)), ((((GAIN)), ((REVERB)):> _)):> _\n"
     ]
    }
   ],
   "source": [
    "a = Pedalboard([Gain()])\n",
    "for _ in range(6) :\n",
    "    mutate(a)\n",
    "\n",
    "print(faustify(a))\n",
    "\n"
   ]
  },
  {
   "cell_type": "code",
   "execution_count": 3,
   "metadata": {},
   "outputs": [
    {
     "data": {
      "text/plain": [
       "<Pedalboard with 3 plugins: [<pedalboard.Mix with 2 plugins: [<pedalboard.Chain with 2 plugins: [<pedalboard.Chain with 1 plugin: [<pedalboard.Gain gain_db=1 at 0x5652a89e8660>] at 0x5652a8903650>, <pedalboard.Chorus rate_hz=1 depth=0.25 centre_delay_ms=7 feedback=0 mix=0.5 at 0x5652a8ac3330>] at 0x5652a8a54250>, <pedalboard.Chain with 3 plugins: [<pedalboard.Chain with 1 plugin: [<pedalboard.Gain gain_db=1 at 0x5652a8a837c0>] at 0x5652a893bca0>, <pedalboard.Chain with 1 plugin: [<pedalboard.Chorus rate_hz=1 depth=0.25 centre_delay_ms=7 feedback=0 mix=0.5 at 0x5652a8ac43f0>] at 0x5652a8955960>, <pedalboard.Chorus rate_hz=1 depth=0.25 centre_delay_ms=7 feedback=0 mix=0.5 at 0x5652a8ac3a40>] at 0x5652a898e660>] at 0x5652a8943be0>, <pedalboard.Chain with 1 plugin: [<pedalboard.Chorus rate_hz=1 depth=0.25 centre_delay_ms=7 feedback=0 mix=0.5 at 0x5652a8ab5850>] at 0x5652a88616f0>, <pedalboard.Gain gain_db=1 at 0x5652a8a32860>]>"
      ]
     },
     "execution_count": 3,
     "metadata": {},
     "output_type": "execute_result"
    }
   ],
   "source": [
    "a\n"
   ]
  },
  {
   "cell_type": "code",
   "execution_count": 75,
   "metadata": {},
   "outputs": [
    {
     "name": "stdout",
     "output_type": "stream",
     "text": [
      "<pedalboard.Chain with 1 plugin: [<pedalboard.Reverb room_size=0.5 damping=0.5 wet_level=0.33 dry_level=0.4 width=1 freeze_mode=0 at 0x56034d51b3f0>] at 0x56034d4f92a0>\n",
      "<pedalboard.Chain with 1 plugin: [<pedalboard.Chorus rate_hz=1 depth=0.25 centre_delay_ms=7 feedback=0 mix=0.5 at 0x56034d608090>] at 0x56034d62c1d0>\n"
     ]
    },
    {
     "data": {
      "text/plain": [
       "<pedalboard.Mix with 2 plugins: [<pedalboard.Chain with 1 plugin: [<pedalboard.Gain gain_db=1 at 0x56034d5eec50>] at 0x56034d3a6220>, <pedalboard.Chain with 1 plugin: [<pedalboard.Gain gain_db=1 at 0x56034d5ec940>] at 0x56034d4f9200>] at 0x56034d4eab50>"
      ]
     },
     "execution_count": 75,
     "metadata": {},
     "output_type": "execute_result"
    }
   ],
   "source": [
    "print(a[1])\n",
    "print(a[2])\n",
    "a[3]"
   ]
  },
  {
   "cell_type": "code",
   "execution_count": 76,
   "metadata": {},
   "outputs": [],
   "source": [
    "simplify_board(a)"
   ]
  },
  {
   "cell_type": "code",
   "execution_count": 78,
   "metadata": {},
   "outputs": [
    {
     "data": {
      "text/plain": [
       "<pedalboard.Chain with 2 plugins: [<pedalboard.Reverb room_size=0.5 damping=0.5 wet_level=0.33 dry_level=0.4 width=1 freeze_mode=0 at 0x56034d51b3f0>, <pedalboard.Chorus rate_hz=1 depth=0.25 centre_delay_ms=7 feedback=0 mix=0.5 at 0x56034d608090>] at 0x56034d609d70>"
      ]
     },
     "execution_count": 78,
     "metadata": {},
     "output_type": "execute_result"
    }
   ],
   "source": [
    "a[1]"
   ]
  },
  {
   "cell_type": "code",
   "execution_count": 65,
   "metadata": {},
   "outputs": [
    {
     "data": {
      "text/plain": [
       "<pedalboard.Chain with 1 plugin: [<pedalboard.Gain gain_db=1 at 0x56034d4f5a70>] at 0x56034d35cc80>"
      ]
     },
     "execution_count": 65,
     "metadata": {},
     "output_type": "execute_result"
    }
   ],
   "source": [
    "simplify_chain(a[0][0][0])\n",
    "a[0][1]"
   ]
  },
  {
   "cell_type": "code",
   "execution_count": 45,
   "metadata": {},
   "outputs": [
    {
     "data": {
      "text/plain": [
       "['__call__',\n",
       " '__class__',\n",
       " '__delattr__',\n",
       " '__dir__',\n",
       " '__doc__',\n",
       " '__eq__',\n",
       " '__format__',\n",
       " '__ge__',\n",
       " '__getattribute__',\n",
       " '__gt__',\n",
       " '__hash__',\n",
       " '__init__',\n",
       " '__init_subclass__',\n",
       " '__le__',\n",
       " '__lt__',\n",
       " '__module__',\n",
       " '__ne__',\n",
       " '__new__',\n",
       " '__reduce__',\n",
       " '__reduce_ex__',\n",
       " '__repr__',\n",
       " '__setattr__',\n",
       " '__sizeof__',\n",
       " '__str__',\n",
       " '__subclasshook__',\n",
       " 'damping',\n",
       " 'dry_level',\n",
       " 'freeze_mode',\n",
       " 'process',\n",
       " 'reset',\n",
       " 'room_size',\n",
       " 'wet_level',\n",
       " 'width']"
      ]
     },
     "execution_count": 45,
     "metadata": {},
     "output_type": "execute_result"
    }
   ],
   "source": [
    "dir(Reverb())"
   ]
  },
  {
   "cell_type": "code",
   "execution_count": null,
   "metadata": {},
   "outputs": [],
   "source": [
    "def board_fitness(board, plg, input_buf, target_buf, samplerate, tol=1.0e-5) :\n",
    "    return"
   ]
  },
  {
   "cell_type": "code",
   "execution_count": 38,
   "metadata": {},
   "outputs": [
    {
     "name": "stdout",
     "output_type": "stream",
     "text": [
      "(Node), ((Node)) :> _\n",
      "(Node), ((Node : Node)) :> _\n",
      "Help on instancemethod in module pedalboard_native:\n",
      "\n",
      "remove(...)\n",
      "    remove(self: pedalboard_native.PluginContainer, arg0: pedalboard_native.Plugin) -> None\n",
      "\n",
      "(Node), ((Node : Node : Node)) :> _\n"
     ]
    },
    {
     "data": {
      "text/plain": [
       "['__call__',\n",
       " '__class__',\n",
       " '__contains__',\n",
       " '__delattr__',\n",
       " '__delitem__',\n",
       " '__dict__',\n",
       " '__dir__',\n",
       " '__doc__',\n",
       " '__eq__',\n",
       " '__format__',\n",
       " '__ge__',\n",
       " '__getattribute__',\n",
       " '__getitem__',\n",
       " '__gt__',\n",
       " '__hash__',\n",
       " '__init__',\n",
       " '__init_subclass__',\n",
       " '__iter__',\n",
       " '__le__',\n",
       " '__len__',\n",
       " '__lt__',\n",
       " '__module__',\n",
       " '__ne__',\n",
       " '__new__',\n",
       " '__reduce__',\n",
       " '__reduce_ex__',\n",
       " '__repr__',\n",
       " '__setattr__',\n",
       " '__setitem__',\n",
       " '__sizeof__',\n",
       " '__str__',\n",
       " '__subclasshook__',\n",
       " 'append',\n",
       " 'insert',\n",
       " 'process',\n",
       " 'remove',\n",
       " 'reset']"
      ]
     },
     "execution_count": 38,
     "metadata": {},
     "output_type": "execute_result"
    }
   ],
   "source": [
    "a = Pedalboard([Reverb()])\n",
    "b = Pedalboard([Mix([Chorus(), a])])\n",
    "print(faustify(b))\n",
    "a.append(Chorus())\n",
    "print(faustify(b))\n",
    "help(Pedalboard.remove)\n",
    "a.insert(0, Chorus())\n",
    "print(faustify(b))\n",
    "dir(a)"
   ]
  },
  {
   "cell_type": "code",
   "execution_count": 84,
   "metadata": {},
   "outputs": [
    {
     "data": {
      "text/plain": [
       "<Pedalboard with 2 plugins: [<pedalboard.Chain with 0 plugins: [] at 0x56210c118b80>, <pedalboard.Chain with 0 plugins: [] at 0x56210be0c9b0>]>"
      ]
     },
     "execution_count": 84,
     "metadata": {},
     "output_type": "execute_result"
    }
   ],
   "source": [
    "board = Pedalboard([Pedalboard([])])\n",
    "plg = list(board[0])\n",
    "board.append(Chain(plg))\n",
    "board\n"
   ]
  },
  {
   "cell_type": "code",
   "execution_count": 86,
   "metadata": {},
   "outputs": [
    {
     "ename": "TypeError",
     "evalue": "unsupported operand type(s) for +: 'pedalboard_native.Reverb' and 'pedalboard_native.utils.Chain'",
     "output_type": "error",
     "traceback": [
      "\u001b[0;31m---------------------------------------------------------------------------\u001b[0m",
      "\u001b[0;31mTypeError\u001b[0m                                 Traceback (most recent call last)",
      "\u001b[1;32m/home/sam/yalenus/Lyon/projects/Crossroad2Effects/src/genAlgo.ipynb Cell 6'\u001b[0m in \u001b[0;36m<cell line: 1>\u001b[0;34m()\u001b[0m\n\u001b[0;32m----> <a href='vscode-notebook-cell:/home/sam/yalenus/Lyon/projects/Crossroad2Effects/src/genAlgo.ipynb#ch0000009?line=0'>1</a>\u001b[0m Reverb() \u001b[39m+\u001b[39;49m Chain()\n",
      "\u001b[0;31mTypeError\u001b[0m: unsupported operand type(s) for +: 'pedalboard_native.Reverb' and 'pedalboard_native.utils.Chain'"
     ]
    }
   ],
   "source": [
    "Reverb() + Chain()"
   ]
  },
  {
   "cell_type": "code",
   "execution_count": 68,
   "metadata": {},
   "outputs": [
    {
     "data": {
      "text/plain": [
       "False"
      ]
     },
     "execution_count": 68,
     "metadata": {},
     "output_type": "execute_result"
    }
   ],
   "source": [
    "Pedalboard"
   ]
  },
  {
   "cell_type": "markdown",
   "metadata": {},
   "source": [
    "### Points to consider\n",
    "- can insert"
   ]
  }
 ],
 "metadata": {
  "kernelspec": {
   "display_name": "Python 3.9.12 ('base')",
   "language": "python",
   "name": "python3"
  },
  "language_info": {
   "codemirror_mode": {
    "name": "ipython",
    "version": 3
   },
   "file_extension": ".py",
   "mimetype": "text/x-python",
   "name": "python",
   "nbconvert_exporter": "python",
   "pygments_lexer": "ipython3",
   "version": "3.9.12"
  },
  "orig_nbformat": 4,
  "vscode": {
   "interpreter": {
    "hash": "1b15b47e994a45b2c1c9c2019b348cb81bbb68780db9285c808c045d049d064a"
   }
  }
 },
 "nbformat": 4,
 "nbformat_minor": 2
}
