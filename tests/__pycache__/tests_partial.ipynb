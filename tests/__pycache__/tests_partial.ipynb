{
 "cells": [
  {
   "cell_type": "code",
   "execution_count": 1,
   "metadata": {},
   "outputs": [],
   "source": [
    "import sys\n",
    "# insert at 1, 0 is the script path (or '' in REPL)\n",
    "sys.path.insert(1, '../src')\n",
    "\n",
    "from plgUtil import *\n",
    "from genAlgo import *\n",
    "from faustGen import *\n",
    "from pedalboard import Pedalboard, Plugin, Chain, Mix, Gain, Delay, Limiter, Compressor, Reverb, HighpassFilter, LowpassFilter\n",
    "from pedalboard.io import AudioFile\n",
    "import random as rd"
   ]
  },
  {
   "cell_type": "code",
   "execution_count": 2,
   "metadata": {},
   "outputs": [
    {
     "ename": "KeyError",
     "evalue": "<pedalboard.Reverb room_size=0.5 damping=0.5 wet_level=0.33 dry_level=0.4 width=1 freeze_mode=0 at 0x55ba8a4ae300>",
     "output_type": "error",
     "traceback": [
      "\u001b[0;31m---------------------------------------------------------------------------\u001b[0m",
      "\u001b[0;31mKeyError\u001b[0m                                  Traceback (most recent call last)",
      "\u001b[1;32m/home/sam/yalenus/Lyon/projects/Crossroad2Effects/tests/tests_partial.ipynb Cell 2'\u001b[0m in \u001b[0;36m<cell line: 2>\u001b[0;34m()\u001b[0m\n\u001b[1;32m      <a href='vscode-notebook-cell:/home/sam/yalenus/Lyon/projects/Crossroad2Effects/tests/tests_partial.ipynb#ch0000001?line=0'>1</a>\u001b[0m board \u001b[39m=\u001b[39m Pedalboard([Reverb(), Mix([Delay(), Mix([Gain(), LowpassFilter()])]), Compressor()])\n\u001b[0;32m----> <a href='vscode-notebook-cell:/home/sam/yalenus/Lyon/projects/Crossroad2Effects/tests/tests_partial.ipynb#ch0000001?line=1'>2</a>\u001b[0m faustify(board)\n",
      "File \u001b[0;32m~/yalenus/Lyon/projects/Crossroad2Effects/tests/../src/faustGen.py:68\u001b[0m, in \u001b[0;36mfaustify\u001b[0;34m(board, d, pre, acc)\u001b[0m\n\u001b[1;32m     <a href='file:///home/sam/yalenus/Lyon/projects/Crossroad2Effects/tests/../src/faustGen.py?line=64'>65</a>\u001b[0m     acc \u001b[39m=\u001b[39m acc[:\u001b[39m-\u001b[39m\u001b[39m2\u001b[39m] \u001b[39m+\u001b[39m o\n\u001b[1;32m     <a href='file:///home/sam/yalenus/Lyon/projects/Crossroad2Effects/tests/../src/faustGen.py?line=66'>67</a>\u001b[0m \u001b[39melse\u001b[39;00m :\n\u001b[0;32m---> <a href='file:///home/sam/yalenus/Lyon/projects/Crossroad2Effects/tests/../src/faustGen.py?line=67'>68</a>\u001b[0m     plg \u001b[39m=\u001b[39m faust_str_block(hd, d[hd])\n\u001b[1;32m     <a href='file:///home/sam/yalenus/Lyon/projects/Crossroad2Effects/tests/../src/faustGen.py?line=68'>69</a>\u001b[0m     pre \u001b[39m+\u001b[39m\u001b[39m=\u001b[39m plg[\u001b[39m1\u001b[39m]\n\u001b[1;32m     <a href='file:///home/sam/yalenus/Lyon/projects/Crossroad2Effects/tests/../src/faustGen.py?line=69'>70</a>\u001b[0m     \u001b[39mif\u001b[39;00m tl \u001b[39m!=\u001b[39m [] :\n",
      "\u001b[0;31mKeyError\u001b[0m: <pedalboard.Reverb room_size=0.5 damping=0.5 wet_level=0.33 dry_level=0.4 width=1 freeze_mode=0 at 0x55ba8a4ae300>"
     ]
    }
   ],
   "source": [
    "board = Pedalboard([Reverb(), Mix([Delay(), Mix([Gain(), LowpassFilter()])]), Compressor()])\n",
    "faustify(board)"
   ]
  },
  {
   "cell_type": "code",
   "execution_count": 5,
   "metadata": {},
   "outputs": [
    {
     "data": {
      "text/plain": [
       "<pedalboard.Delay delay_seconds=0.6 feedback=0 mix=0.5 at 0x55ba89a3bd50>"
      ]
     },
     "execution_count": 5,
     "metadata": {},
     "output_type": "execute_result"
    }
   ],
   "source": [
    "a = Delay()\n",
    "a.delay_seconds += 0.1\n",
    "a"
   ]
  },
  {
   "cell_type": "code",
   "execution_count": null,
   "metadata": {},
   "outputs": [],
   "source": [
    "def equal(a : Pedalboard, b : Pedalboard) -> bool : \n",
    "    \"\"\"\n",
    "    Check if two boards contain the same plugins in the same order\n",
    "    \"\"\"\n",
    "    if len(a) != len(b) :\n",
    "        return False\n",
    "    for i in range(len(a)) :\n",
    "        if type(a[i]) != type(b[i]) : return False\n",
    "    return True\n",
    "\n"
   ]
  },
  {
   "cell_type": "code",
   "execution_count": 63,
   "metadata": {},
   "outputs": [
    {
     "data": {
      "text/plain": [
       "(array([482., 405., 373., 309., 261., 223., 182., 143.,  85.,  37.]),\n",
       " array([3.42927397e-04, 2.92011394e-01, 5.83679860e-01, 8.75348327e-01,\n",
       "        1.16701679e+00, 1.45868526e+00, 1.75035373e+00, 2.04202219e+00,\n",
       "        2.33369066e+00, 2.62535913e+00, 2.91702759e+00]),\n",
       " <BarContainer object of 10 artists>)"
      ]
     },
     "execution_count": 63,
     "metadata": {},
     "output_type": "execute_result"
    },
    {
     "data": {
      "image/png": "[encoded data removed]",
      "text/plain": [
       "<Figure size 432x288 with 1 Axes>"
      ]
     },
     "metadata": {
      "needs_background": "light"
     },
     "output_type": "display_data"
    }
   ],
   "source": [
    "import matplotlib.pyplot as plt\n",
    "import random\n",
    "plt.hist([random.triangular(0,3,0) for i in range(2500)])"
   ]
  }
 ],
 "metadata": {
  "kernelspec": {
   "display_name": "Python 3.9.12 ('base')",
   "language": "python",
   "name": "python3"
  },
  "language_info": {
   "codemirror_mode": {
    "name": "ipython",
    "version": 3
   },
   "file_extension": ".py",
   "mimetype": "text/x-python",
   "name": "python",
   "nbconvert_exporter": "python",
   "pygments_lexer": "ipython3",
   "version": "3.9.12"
  },
  "orig_nbformat": 4,
  "vscode": {
   "interpreter": {
    "hash": "1b15b47e994a45b2c1c9c2019b348cb81bbb68780db9285c808c045d049d064a"
   }
  }
 },
 "nbformat": 4,
 "nbformat_minor": 2
}
