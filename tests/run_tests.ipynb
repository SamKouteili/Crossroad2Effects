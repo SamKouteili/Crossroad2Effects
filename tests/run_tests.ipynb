{
 "cells": [
  {
   "cell_type": "code",
   "execution_count": 2,
   "metadata": {},
   "outputs": [],
   "source": [
    "from pedalboard import Pedalboard, Plugin, Chain, Mix, Gain, Chorus, Reverb\n",
    "from pedalboard.io import AudioFile\n",
    "\n",
    "# Read in a whole audio file:\n",
    "with AudioFile('guitar.wav', 'r') as f:\n",
    "  audio = f.read(f.frames)\n",
    "  samplerate = f.samplerate\n",
    "\n",
    "# Make a Pedalboard object, containing multiple plugins:\n",
    "board = Pedalboard([Gain()])\n",
    "\n",
    "# Run the audio through this pedalboard!\n",
    "effected = board(audio, samplerate)\n",
    "\n",
    "# Write the audio back as a wav file:\n",
    "with AudioFile('./test1_gain/guitar_gained.wav', 'w', samplerate, effected.shape[0]) as f:\n",
    "  f.write(effected)"
   ]
  }
 ],
 "metadata": {
  "kernelspec": {
   "display_name": "Python 3.9.12 ('base')",
   "language": "python",
   "name": "python3"
  },
  "language_info": {
   "codemirror_mode": {
    "name": "ipython",
    "version": 3
   },
   "file_extension": ".py",
   "mimetype": "text/x-python",
   "name": "python",
   "nbconvert_exporter": "python",
   "pygments_lexer": "ipython3",
   "version": "3.9.12"
  },
  "orig_nbformat": 4,
  "vscode": {
   "interpreter": {
    "hash": "1b15b47e994a45b2c1c9c2019b348cb81bbb68780db9285c808c045d049d064a"
   }
  }
 },
 "nbformat": 4,
 "nbformat_minor": 2
}
