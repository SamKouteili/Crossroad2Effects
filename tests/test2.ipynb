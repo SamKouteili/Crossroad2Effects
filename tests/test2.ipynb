{
 "cells": [
  {
   "cell_type": "code",
   "execution_count": 1,
   "metadata": {},
   "outputs": [],
   "source": [
    "import sys\n",
    "# insert at 1, 0 is the script path (or '' in REPL)\n",
    "sys.path.insert(1, '../src')\n",
    "\n",
    "from plgUtil import *\n",
    "from genAlgo import *\n",
    "from faustGen import *\n",
    "\n",
    "from pedalboard import Pedalboard, Plugin, Chain, Mix, Gain, Chorus, Reverb\n",
    "from pedalboard.io import AudioFile"
   ]
  },
  {
   "cell_type": "code",
   "execution_count": 2,
   "metadata": {},
   "outputs": [],
   "source": [
    "with AudioFile('guitar.wav', 'r') as f:\n",
    "    dry = f.read(f.frames)\n",
    "    sr = f.samplerate\n",
    "with AudioFile('./test3_revchor/guitar_revchor.wav', 'r') as f:\n",
    "    wet = f.read(f.frames)"
   ]
  },
  {
   "cell_type": "code",
   "execution_count": 3,
   "metadata": {},
   "outputs": [
    {
     "name": "stderr",
     "output_type": "stream",
     "text": [
      "/home/sam/anaconda3/lib/python3.9/site-packages/scipy/signal/spectral.py:1964: UserWarning: nperseg = 2048 is greater than input length  = 2, using nperseg = 2\n",
      "  warnings.warn('nperseg = {0:d} is greater than input length '\n"
     ]
    },
    {
     "name": "stdout",
     "output_type": "stream",
     "text": [
      "BEST MODEL THUS FAR (0)\n",
      " ERROR: 0.0003622657968662679\n",
      " MODEL: <Pedalboard with 1 plugin: [<pedalboard.Chain with 1 plugin: [<pedalboard.Chorus rate_hz=1 depth=0.25 centre_delay_ms=7 feedback=0 mix=0.5 at 0x55e87a574190>] at 0x55e87a514320>]>\n",
      "BEST MODEL THUS FAR (1)\n",
      " ERROR: 0.0003622657968662679\n",
      " MODEL: <Pedalboard with 1 plugin: [<pedalboard.Chain with 1 plugin: [<pedalboard.Chorus rate_hz=1 depth=0.25 centre_delay_ms=7 feedback=0 mix=0.5 at 0x55e87a574190>] at 0x55e87a514320>]>\n",
      "BEST MODEL THUS FAR (2)\n",
      " ERROR: 1.3256591046229005e-05\n",
      " MODEL: <Pedalboard with 3 plugins: [<pedalboard.Chain with 1 plugin: [<pedalboard.Gain gain_db=1 at 0x55e87a7dd3b0>] at 0x55e87a402280>, <pedalboard.Chain with 1 plugin: [<pedalboard.Reverb room_size=0.5 damping=0.5 wet_level=0.33 dry_level=0.4 width=1 freeze_mode=0 at 0x55e87a8f4790>] at 0x55e87a90d9d0>, <pedalboard.Chain with 1 plugin: [<pedalboard.Chorus rate_hz=1 depth=0.25 centre_delay_ms=7 feedback=0 mix=0.5 at 0x55e87a90da90>] at 0x55e87a4879b0>]>\n",
      "BEST MODEL THUS FAR (3)\n",
      " ERROR: 1.3256591046229005e-05\n",
      " MODEL: <Pedalboard with 3 plugins: [<pedalboard.Chain with 1 plugin: [<pedalboard.Gain gain_db=1 at 0x55e87a7dd3b0>] at 0x55e87a402280>, <pedalboard.Chain with 1 plugin: [<pedalboard.Reverb room_size=0.5 damping=0.5 wet_level=0.33 dry_level=0.4 width=1 freeze_mode=0 at 0x55e87a8f4790>] at 0x55e87a90d9d0>, <pedalboard.Chain with 1 plugin: [<pedalboard.Chorus rate_hz=1 depth=0.25 centre_delay_ms=7 feedback=0 mix=0.5 at 0x55e87a90da90>] at 0x55e87a4879b0>]>\n",
      "BEST MODEL THUS FAR (4)\n",
      " ERROR: 1.3256591046229005e-05\n",
      " MODEL: <Pedalboard with 3 plugins: [<pedalboard.Chain with 1 plugin: [<pedalboard.Gain gain_db=1 at 0x55e87a7dd3b0>] at 0x55e87a402280>, <pedalboard.Chain with 1 plugin: [<pedalboard.Reverb room_size=0.5 damping=0.5 wet_level=0.33 dry_level=0.4 width=1 freeze_mode=0 at 0x55e87a8f4790>] at 0x55e87a90d9d0>, <pedalboard.Chain with 1 plugin: [<pedalboard.Chorus rate_hz=1 depth=0.25 centre_delay_ms=7 feedback=0 mix=0.5 at 0x55e87a90da90>] at 0x55e87a4879b0>]>\n"
     ]
    },
    {
     "ename": "KeyboardInterrupt",
     "evalue": "",
     "output_type": "error",
     "traceback": [
      "\u001b[0;31m---------------------------------------------------------------------------\u001b[0m",
      "\u001b[0;31mKeyboardInterrupt\u001b[0m                         Traceback (most recent call last)",
      "\u001b[1;32m/home/sam/yalenus/Lyon/projects/Crossroad2Effects/tests/test2.ipynb Cell 3'\u001b[0m in \u001b[0;36m<cell line: 1>\u001b[0;34m()\u001b[0m\n\u001b[0;32m----> <a href='vscode-notebook-cell:/home/sam/yalenus/Lyon/projects/Crossroad2Effects/tests/test2.ipynb#ch0000006?line=0'>1</a>\u001b[0m b \u001b[39m=\u001b[39m evolve(dry, wet, sr)\n",
      "File \u001b[0;32m~/yalenus/Lyon/projects/Crossroad2Effects/tests/../src/genAlgo.py:36\u001b[0m, in \u001b[0;36mevolve\u001b[0;34m(dry, wet, sr)\u001b[0m\n\u001b[1;32m     <a href='file:///home/sam/yalenus/Lyon/projects/Crossroad2Effects/tests/../src/genAlgo.py?line=32'>33</a>\u001b[0m \u001b[39mwhile\u001b[39;00m gen_num \u001b[39m<\u001b[39m N_gens :\n\u001b[1;32m     <a href='file:///home/sam/yalenus/Lyon/projects/Crossroad2Effects/tests/../src/genAlgo.py?line=34'>35</a>\u001b[0m     models \u001b[39m=\u001b[39m [mod \u001b[39mfor\u001b[39;00m mod \u001b[39min\u001b[39;00m models \u001b[39mif\u001b[39;00m mod \u001b[39m!=\u001b[39m \u001b[39mNone\u001b[39;00m]\n\u001b[0;32m---> <a href='file:///home/sam/yalenus/Lyon/projects/Crossroad2Effects/tests/../src/genAlgo.py?line=35'>36</a>\u001b[0m     errors \u001b[39m=\u001b[39m [calc_error(mod(dry, sr), wet) \u001b[39mfor\u001b[39;00m mod \u001b[39min\u001b[39;00m models]\n\u001b[1;32m     <a href='file:///home/sam/yalenus/Lyon/projects/Crossroad2Effects/tests/../src/genAlgo.py?line=36'>37</a>\u001b[0m     aridxs \u001b[39m=\u001b[39m np\u001b[39m.\u001b[39margsort(errors)[:N_pop]\n\u001b[1;32m     <a href='file:///home/sam/yalenus/Lyon/projects/Crossroad2Effects/tests/../src/genAlgo.py?line=37'>38</a>\u001b[0m     errors \u001b[39m=\u001b[39m [errors[i] \u001b[39mfor\u001b[39;00m i \u001b[39min\u001b[39;00m aridxs]\n",
      "File \u001b[0;32m~/yalenus/Lyon/projects/Crossroad2Effects/tests/../src/genAlgo.py:36\u001b[0m, in \u001b[0;36m<listcomp>\u001b[0;34m(.0)\u001b[0m\n\u001b[1;32m     <a href='file:///home/sam/yalenus/Lyon/projects/Crossroad2Effects/tests/../src/genAlgo.py?line=32'>33</a>\u001b[0m \u001b[39mwhile\u001b[39;00m gen_num \u001b[39m<\u001b[39m N_gens :\n\u001b[1;32m     <a href='file:///home/sam/yalenus/Lyon/projects/Crossroad2Effects/tests/../src/genAlgo.py?line=34'>35</a>\u001b[0m     models \u001b[39m=\u001b[39m [mod \u001b[39mfor\u001b[39;00m mod \u001b[39min\u001b[39;00m models \u001b[39mif\u001b[39;00m mod \u001b[39m!=\u001b[39m \u001b[39mNone\u001b[39;00m]\n\u001b[0;32m---> <a href='file:///home/sam/yalenus/Lyon/projects/Crossroad2Effects/tests/../src/genAlgo.py?line=35'>36</a>\u001b[0m     errors \u001b[39m=\u001b[39m [calc_error(mod(dry, sr), wet) \u001b[39mfor\u001b[39;00m mod \u001b[39min\u001b[39;00m models]\n\u001b[1;32m     <a href='file:///home/sam/yalenus/Lyon/projects/Crossroad2Effects/tests/../src/genAlgo.py?line=36'>37</a>\u001b[0m     aridxs \u001b[39m=\u001b[39m np\u001b[39m.\u001b[39margsort(errors)[:N_pop]\n\u001b[1;32m     <a href='file:///home/sam/yalenus/Lyon/projects/Crossroad2Effects/tests/../src/genAlgo.py?line=37'>38</a>\u001b[0m     errors \u001b[39m=\u001b[39m [errors[i] \u001b[39mfor\u001b[39;00m i \u001b[39min\u001b[39;00m aridxs]\n",
      "\u001b[0;31mKeyboardInterrupt\u001b[0m: "
     ]
    }
   ],
   "source": [
    "b = evolve(dry, wet, sr)\n"
   ]
  },
  {
   "cell_type": "code",
   "execution_count": null,
   "metadata": {},
   "outputs": [],
   "source": [
    "models = [1, 2, None]\n",
    "models = [mod for mod in models if mod != None]"
   ]
  },
  {
   "cell_type": "code",
   "execution_count": null,
   "metadata": {},
   "outputs": [
    {
     "name": "stdout",
     "output_type": "stream",
     "text": [
      "[1, 1]\n"
     ]
    },
    {
     "data": {
      "text/plain": [
       "[[], []]"
      ]
     },
     "execution_count": 11,
     "metadata": {},
     "output_type": "execute_result"
    }
   ],
   "source": [
    "parents = [Pedalboard([Mix([Reverb(), Chorus()])]), Pedalboard([Chorus()])]\n",
    "plen = [len(parent) for parent in parents]\n",
    "print(plen)\n",
    "phalf = [list(parents[i])[:int(plen[i]/2)] for i in range(2)]\n",
    "phalf"
   ]
  },
  {
   "cell_type": "code",
   "execution_count": null,
   "metadata": {},
   "outputs": [
    {
     "data": {
      "text/plain": [
       "<pedalboard.Chain with 1 plugin: [<pedalboard.Reverb room_size=0.5 damping=0.5 wet_level=0.33 dry_level=0.4 width=1 freeze_mode=0 at 0x55de4f1d5b90>] at 0x55de4d021850>"
      ]
     },
     "execution_count": 11,
     "metadata": {},
     "output_type": "execute_result"
    }
   ],
   "source": [
    "Chain([Reverb()])"
   ]
  },
  {
   "cell_type": "code",
   "execution_count": null,
   "metadata": {},
   "outputs": [],
   "source": [
    "tol=1.0e-5\n",
    "N_pop = 12\n",
    "N_gens = 20\n",
    "N_survive = 10\n",
    "\n",
    "\n",
    "# initialize models\n",
    "models = [Pedalboard([Chain([newPlg(plg)])]) for plg in PLUGINS]\n",
    "    \n",
    "# do I want this here?\n",
    "models = generation(models, N_pop, N_survive)\n",
    "\n",
    "gen_num = 0\n",
    "converge = False\n",
    "elapsed = ti.time()"
   ]
  },
  {
   "cell_type": "code",
   "execution_count": null,
   "metadata": {},
   "outputs": [],
   "source": [
    "a = models"
   ]
  },
  {
   "cell_type": "code",
   "execution_count": null,
   "metadata": {},
   "outputs": [],
   "source": [
    "models = generation(models, N_pop, N_survive)"
   ]
  },
  {
   "cell_type": "code",
   "execution_count": null,
   "metadata": {},
   "outputs": [
    {
     "data": {
      "text/plain": [
       "True"
      ]
     },
     "execution_count": 18,
     "metadata": {},
     "output_type": "execute_result"
    }
   ],
   "source": [
    "evolve(dry, wet, sr)"
   ]
  }
 ],
 "metadata": {
  "kernelspec": {
   "display_name": "Python 3.9.12 ('base')",
   "language": "python",
   "name": "python3"
  },
  "language_info": {
   "codemirror_mode": {
    "name": "ipython",
    "version": 3
   },
   "file_extension": ".py",
   "mimetype": "text/x-python",
   "name": "python",
   "nbconvert_exporter": "python",
   "pygments_lexer": "ipython3",
   "version": "3.9.12"
  },
  "orig_nbformat": 4,
  "vscode": {
   "interpreter": {
    "hash": "1b15b47e994a45b2c1c9c2019b348cb81bbb68780db9285c808c045d049d064a"
   }
  }
 },
 "nbformat": 4,
 "nbformat_minor": 2
}
